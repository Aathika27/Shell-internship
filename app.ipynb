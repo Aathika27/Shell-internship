{
 "cells": [
  {
   "cell_type": "code",
   "execution_count": 1,
   "id": "b9f75707-f242-4114-a767-35ac26fa1f33",
   "metadata": {},
   "outputs": [
    {
     "name": "stderr",
     "output_type": "stream",
     "text": [
      "2025-05-15 23:57:29.769 \n",
      "  \u001b[33m\u001b[1mWarning:\u001b[0m to view this Streamlit app on a browser, run it with the following\n",
      "  command:\n",
      "\n",
      "    streamlit run C:\\Users\\aathi\\anaconda3\\Lib\\site-packages\\ipykernel_launcher.py [ARGUMENTS]\n"
     ]
    }
   ],
   "source": [
    "# app.py\n",
    "import streamlit as st\n",
    "import pickle\n",
    "import pandas as pd\n",
    "\n",
    "# Load the trained model\n",
    "model = pickle.load(open(\"model.pkl\", \"rb\"))\n",
    "\n",
    "st.title(\"🎓 Student Performance Predictor\")\n",
    "\n",
    "# Collect user input\n",
    "gender = st.selectbox(\"Gender\", [\"female\", \"male\"])\n",
    "lunch = st.selectbox(\"Lunch Type\", [\"standard\", \"free/reduced\"])\n",
    "prep = st.selectbox(\"Test Preparation\", [\"none\", \"completed\"])\n",
    "reading = st.slider(\"Reading Score\", 0, 100, 70)\n",
    "writing = st.slider(\"Writing Score\", 0, 100, 70)\n",
    "\n",
    "# Convert categorical inputs to dummy variables like training data\n",
    "input_data = pd.DataFrame({\n",
    "    \"reading score\": [reading],\n",
    "    \"writing score\": [writing],\n",
    "    \"gender_male\": [1 if gender == \"male\" else 0],\n",
    "    \"lunch_standard\": [1 if lunch == \"standard\" else 0],\n",
    "    \"test preparation course_none\": [1 if prep == \"none\" else 0]\n",
    "})\n",
    "\n",
    "# Predict button\n",
    "if st.button(\"Predict Math Score\"):\n",
    "    prediction = model.predict(input_data)\n",
    "    st.success(f\"Predicted Math Score: {prediction[0]:.2f}\")\n"
   ]
  },
  {
   "cell_type": "code",
   "execution_count": null,
   "id": "52a302e6-4421-403a-a6dd-824eaec91cd0",
   "metadata": {},
   "outputs": [],
   "source": []
  }
 ],
 "metadata": {
  "kernelspec": {
   "display_name": "Python 3 (ipykernel)",
   "language": "python",
   "name": "python3"
  },
  "language_info": {
   "codemirror_mode": {
    "name": "ipython",
    "version": 3
   },
   "file_extension": ".py",
   "mimetype": "text/x-python",
   "name": "python",
   "nbconvert_exporter": "python",
   "pygments_lexer": "ipython3",
   "version": "3.12.4"
  }
 },
 "nbformat": 4,
 "nbformat_minor": 5
}
